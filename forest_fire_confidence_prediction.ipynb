{
 "cells": [
  {
   "cell_type": "code",
   "execution_count": null,
   "id": "0a3608cd-b00b-441d-930a-0d0345d57087",
   "metadata": {},
   "outputs": [],
   "source": [
    "pip install pandas matplotlib folium\n"
   ]
  },
  {
   "cell_type": "code",
   "execution_count": null,
   "id": "ca99d98a-4dba-484f-b4e5-46e9353ea858",
   "metadata": {},
   "outputs": [],
   "source": [
    "import pandas as pd\n",
    "\n",
    "# 🔽 Load the downloaded dataset\n",
    "df = pd.read_csv(\"modis_2024_India.csv\")\n",
    "\n",
    "# 🔍 Show first few rows\n",
    "print(df.head())\n",
    "\n",
    "# 🧾 Basic info\n",
    "print(\"\\nColumns:\", df.columns)\n",
    "print(\"\\nSummary:\\n\", df.describe())\n",
    "\n",
    "# 🔍 Unique satellites and confidence levels\n",
    "print(\"\\nSatellites:\", df['satellite'].unique())\n",
    "print(\"Confidence levels:\", df['confidence'].unique())\n"
   ]
  },
  {
   "cell_type": "markdown",
   "id": "5cef4e21-2004-4b5b-b6b5-d1fc9b3316ec",
   "metadata": {},
   "source": [
    "# Forest Fire Detection in India using MODIS FIRMS Data\n",
    "\n",
    "This notebook focuses on analyzing active fire data over India using satellite-based thermal anomaly detection from NASA's MODIS sensor. The dataset includes information on fire hotspots, brightness, confidence levels, and satellite metadata.\n",
    "\n",
    "---\n",
    "\n",
    "## Dataset Description\n",
    "\n",
    "Each row in the dataset represents a fire detection (thermal anomaly) observed by a satellite. Below are the key fields included:\n",
    "\n",
    "###  latitude\n",
    "- Latitude where the fire was detected (between 8°N to 37°N for India)\n",
    "\n",
    "###  longitude\n",
    "- Longitude where the fire was detected (between 68°E to 97°E)\n",
    "\n",
    "###  brightness\n",
    "- Brightness temperature (Kelvin) measured by the satellite in the fire pixel\n",
    "\n",
    "###  scan & track\n",
    "- Dimensions (in kilometers) of the satellite sensor's scan pixel\n",
    "\n",
    "###  acq_date\n",
    "- Date when the fire was detected (`YYYY-MM-DD` format)\n",
    "\n",
    "###  acq_time\n",
    "- Time of detection in UTC (`HHMM` format)\n",
    "\n",
    "###  satellite\n",
    "- Satellite that detected the fire: `T` for Terra or `A` for Aqua\n",
    "\n",
    "###  instrument\n",
    "- Usually `MODIS` (Moderate Resolution Imaging Spectroradiometer)\n",
    "\n",
    "###  confidence\n",
    "- Confidence level of the detection:\n",
    "  - Can be a percentage (0–100) or label like `'low'`, `'nominal'`, `'high'`\n",
    "\n",
    "###  version\n",
    "- Product version (e.g., `6.1`)\n",
    "\n",
    "###  bright_t31\n",
    "- Brightness temperature of the background (non-fire) pixel in Kelvin\n",
    "\n",
    "###  frp\n",
    "- Fire Radiative Power (intensity of the fire) in megawatts (MW)\n",
    "\n",
    "###  daynight\n",
    "- Indicates whether the fire was detected during the `day` or `night`\n",
    "\n",
    "###  type\n",
    "- Indicates the type of thermal source:\n",
    "  - `0` - Presumed vegetation fire\n",
    "  - `1` - Active volcano\n",
    "  - `2` - Other (e.g., industrial heat source)\n",
    "\n",
    "---\n",
    "\n",
    "##  Focus Area\n",
    "\n",
    "This analysis is limited to **India**, filtered using:\n",
    "- Latitude: `8°N to 37°N`\n",
    "- Longitude: `68°E to 97°E`\n",
    "\n",
    "---\n",
    "\n",
    "##  Objectives of This Notebook\n",
    "\n",
    "- Load and explore MODIS FIRMS fire data\n",
    "- Filter and visualize India-specific fire detections\n",
    "- Analyze fire distribution over date, region, and confidence\n",
    "- Optionally simulate fire spread or build predictive ML models\n",
    "\n",
    "---\n",
    "\n",
    "##  Data Source\n",
    "\n",
    "- **NASA FIRMS (Fire Information for Resource Management System)**  \n",
    "  🔗 [https://firms.modaps.eosdis.nasa.gov/](https://firms.modaps.eosdis.nasa.gov/)\n",
    "\n",
    "---\n",
    "\n",
    "\n"
   ]
  },
  {
   "cell_type": "code",
   "execution_count": null,
   "id": "a77495ba-db34-41f1-b974-c7cdeb2be457",
   "metadata": {},
   "outputs": [],
   "source": [
    "df"
   ]
  },
  {
   "cell_type": "code",
   "execution_count": null,
   "id": "19301722-6a7a-4943-a9fa-c4d61a1d7640",
   "metadata": {
    "scrolled": true
   },
   "outputs": [],
   "source": [
    "\n",
    "# Create a folium map centered on a mean location\n",
    "m = folium.Map(location=[df['latitude'].mean(), df['longitude'].mean()], zoom_start=4)\n",
    "\n",
    "# Add fire points\n",
    "for _, row in df.iterrows():\n",
    "    folium.CircleMarker(\n",
    "        location=(row['latitude'], row['longitude']),\n",
    "        radius=3,\n",
    "        color='red' if row['confidence'] >= 80 else 'orange',\n",
    "        fill=True,\n",
    "        fill_opacity=0.7,\n",
    "        popup=f\"Date: {row['acq_date']} | Brightness: {row['brightness']}\"\n",
    "    ).add_to(m)\n",
    "\n",
    "# Show map\n",
    "m\n"
   ]
  },
  {
   "cell_type": "code",
   "execution_count": null,
   "id": "e40711d7-c1b2-46e4-a24c-eb72ecaf8375",
   "metadata": {},
   "outputs": [],
   "source": [
    "\n",
    "# Create a folium map centered on a mean location\n",
    "m = folium.Map(location=[df['latitude'].mean(), df['longitude'].mean()], zoom_start=4)\n",
    "\n",
    "# Add fire points\n",
    "for _, row in df.iterrows():\n",
    "    folium.CircleMarker(\n",
    "        location=(row['latitude'], row['longitude']),\n",
    "        radius=3,\n",
    "        color='red' if row['confidence'] >= 80 else 'orange',\n",
    "        fill=True,\n",
    "        fill_opacity=0.7,\n",
    "        popup=f\"Date: {row['acq_date']} | Brightness: {row['brightness']}\"\n",
    "    ).add_to(m)\n",
    "\n",
    "# Show map\n",
    "m"
   ]
  },
  {
   "cell_type": "code",
   "execution_count": null,
   "id": "3393ce18-8485-4572-b3f1-555af23d6141",
   "metadata": {},
   "outputs": [],
   "source": [
    "Analyze by Time of Day (Day vs Night)"
   ]
  },
  {
   "cell_type": "code",
   "execution_count": null,
   "id": "8678b451-3d8d-4487-ba28-f4ca4f9abe0d",
   "metadata": {},
   "outputs": [],
   "source": [
    "import matplotlib.pyplot as plt\n",
    "\n",
    "# Count by day/night\n",
    "df['daynight'].value_counts().plot(\n",
    "    kind='pie',\n",
    "    autopct='%1.1f%%',\n",
    "    colors=['gold', 'skyblue'],\n",
    "    title=\" Fire Detections: Day vs Night\"\n",
    ")\n",
    "\n",
    "plt.ylabel('')  # remove y-label\n",
    "plt.show()\n"
   ]
  },
  {
   "cell_type": "code",
   "execution_count": null,
   "id": "9f101885-e13a-455a-ae73-f91b3c3a8212",
   "metadata": {},
   "outputs": [],
   "source": []
  },
  {
   "cell_type": "code",
   "execution_count": null,
   "id": "e91d239c-3658-4cd2-aec2-c9f60111be4f",
   "metadata": {},
   "outputs": [],
   "source": []
  },
  {
   "cell_type": "code",
   "execution_count": null,
   "id": "708046de-8d4c-4656-8a71-57f75a5a16c9",
   "metadata": {},
   "outputs": [],
   "source": [
    "plt.figure(figsize=(8,5))\n",
    "plt.hist(df['brightness'], bins=30, color='darkred', edgecolor='black')\n",
    "plt.title(\" Brightness Distribution of Fire Pixels\")\n",
    "plt.xlabel(\"Brightness (Kelvin)\")\n",
    "plt.ylabel(\"Frequency\")\n",
    "plt.grid(True)\n",
    "plt.show()"
   ]
  },
  {
   "cell_type": "code",
   "execution_count": null,
   "id": "f0e6c59d-f311-4935-aa6d-9e53b2d15e1e",
   "metadata": {},
   "outputs": [],
   "source": [
    "# Drop any missing values\n",
    "df_clean = df.dropna()\n",
    "\n",
    "# Select relevant features for ML\n",
    "features = df_clean[['latitude', 'longitude', 'brightness', 'scan', 'track', 'bright_t31', 'frp']]\n",
    "target = df_clean['confidence']  # or convert to classification: high vs low\n",
    "\n",
    "print(features.head())"
   ]
  },
  {
   "cell_type": "code",
   "execution_count": null,
   "id": "98b581ed-5c11-466a-9219-d3b5a0c2be36",
   "metadata": {},
   "outputs": [],
   "source": [
    "# Convert confidence to binary classification\n",
    "target_class = df_clean['confidence'].apply(lambda x: 1 if x >= 80 else 0)\n"
   ]
  },
  {
   "cell_type": "code",
   "execution_count": null,
   "id": "ec8c56f2-0142-4ccb-b4f8-88028b934280",
   "metadata": {},
   "outputs": [],
   "source": [
    "from sklearn.model_selection import train_test_split\n",
    "\n",
    "X_train, X_test, y_train, y_test = train_test_split(features, target_class, test_size=0.2, random_state=42)\n"
   ]
  },
  {
   "cell_type": "code",
   "execution_count": null,
   "id": "63df4870-0d46-4a2f-be99-f7808bd00f6e",
   "metadata": {},
   "outputs": [],
   "source": [
    "from sklearn.ensemble import RandomForestClassifier\n",
    "\n",
    "model = RandomForestClassifier(n_estimators=100, random_state=42)\n",
    "model.fit(X_train, y_train)\n"
   ]
  },
  {
   "cell_type": "code",
   "execution_count": null,
   "id": "b9315284-fbc5-43a7-bddf-98ceb174e719",
   "metadata": {},
   "outputs": [],
   "source": [
    "from sklearn.metrics import classification_report, accuracy_score\n",
    "\n",
    "y_pred = model.predict(X_test)\n",
    "\n",
    "print(\"Accuracy:\", accuracy_score(y_test, y_pred))\n",
    "print(\"\\nClassification Report:\\n\", classification_report(y_test, y_pred))\n"
   ]
  },
  {
   "cell_type": "code",
   "execution_count": null,
   "id": "74565291-3d95-4862-8889-236b0c7c71b2",
   "metadata": {},
   "outputs": [],
   "source": [
    "import matplotlib.pyplot as plt\n",
    "\n",
    "importances = model.feature_importances_\n",
    "feature_names = features.columns\n",
    "\n",
    "plt.figure(figsize=(8,5))\n",
    "plt.barh(feature_names, importances, color='teal')\n",
    "plt.xlabel(\"Importance\")\n",
    "plt.title(\"Feature Importance for Fire Confidence Classification\")\n",
    "plt.grid(True)\n",
    "plt.tight_layout()\n",
    "plt.show()\n"
   ]
  },
  {
   "cell_type": "code",
   "execution_count": null,
   "id": "03eee963-315f-401c-992e-e2444bf57907",
   "metadata": {},
   "outputs": [],
   "source": []
  }
 ],
 "metadata": {
  "kernelspec": {
   "display_name": "Python 3 (ipykernel)",
   "language": "python",
   "name": "python3"
  },
  "language_info": {
   "codemirror_mode": {
    "name": "ipython",
    "version": 3
   },
   "file_extension": ".py",
   "mimetype": "text/x-python",
   "name": "python",
   "nbconvert_exporter": "python",
   "pygments_lexer": "ipython3",
   "version": "3.12.7"
  }
 },
 "nbformat": 4,
 "nbformat_minor": 5
}
